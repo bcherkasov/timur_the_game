{
 "cells": [
  {
   "cell_type": "markdown",
   "id": "considerable-strategy",
   "metadata": {},
   "source": [
    "# Adventures of Timur: Story of Shit &amp; Courage\n",
    "\n",
    "This is a roguelike-adventure game, which trains you how to make important decisions in life.\n",
    "\n",
    "Inspired by true events and Postal 2. \n",
    "\n",
    "All characters and events portrayed in this game are purely fictional. Except for Timur himself.\n",
    "\n",
    "To start new game please select next cell and push <font color=blue>Shift+Enter</font>"
   ]
  },
  {
   "cell_type": "code",
   "execution_count": null,
   "id": "placed-baseball",
   "metadata": {},
   "outputs": [],
   "source": [
    "from timur_funcs import game\n",
    "\n",
    "game()"
   ]
  }
 ],
 "metadata": {
  "kernelspec": {
   "display_name": "Python 3",
   "language": "python",
   "name": "python3"
  },
  "language_info": {
   "codemirror_mode": {
    "name": "ipython",
    "version": 3
   },
   "file_extension": ".py",
   "mimetype": "text/x-python",
   "name": "python",
   "nbconvert_exporter": "python",
   "pygments_lexer": "ipython3",
   "version": "3.7.3"
  }
 },
 "nbformat": 4,
 "nbformat_minor": 5
}
