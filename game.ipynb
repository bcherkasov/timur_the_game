from timur_funcs import game

game()
